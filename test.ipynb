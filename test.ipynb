{
 "cells": [
  {
   "cell_type": "code",
   "execution_count": 6,
   "metadata": {},
   "outputs": [],
   "source": [
    "from utils.chat import get_response"
   ]
  },
  {
   "cell_type": "code",
   "execution_count": 7,
   "metadata": {},
   "outputs": [],
   "source": [
    "answer = get_response(url='http://127.0.0.1:600/chat',query='best buds to buys')"
   ]
  },
  {
   "cell_type": "code",
   "execution_count": 8,
   "metadata": {},
   "outputs": [
    {
     "name": "stdout",
     "output_type": "stream",
     "text": [
      "{'store': {'xyz': {'messages': [{'content': 'best buds to buys', 'additional_kwargs': {}, 'response_metadata': {}, 'type': 'human', 'name': None, 'id': None}, {'content': 'Based on the reviews provided, the \"Best Quality buds\" (presumably Realme Buds) seem to be a great choice due to their excellent sound quality with fine bass, superb noise cancellation, and a comfortable fit. The battery backup is also reported to be very good. Therefore, I highly recommend considering these buds for your purchase.', 'additional_kwargs': {}, 'response_metadata': {}, 'type': 'ai', 'name': None, 'id': None}]}}, 'response': {'input': 'best buds to buys', 'chat_history': [], 'context': [{'id': '686d8115b47445f3842a28b5b34f0292', 'metadata': {'product_name': 'realme Buds Q Bluetooth Headset'}, 'page_content': 'Best Quality buds', 'type': 'Document'}, {'id': 'ae1e0224f55348408c37c8321e0930a6', 'metadata': {'product_name': 'realme Buds Q Bluetooth Headset'}, 'page_content': \"This buds gives such a good quality experience of listening. Fine bass and good build quality. Bt battery backup stands extremely good . I have purchased this Bud's 10 days ago since then I got fine performance from this buds.I must say worth of every Penny I spent on it.\", 'type': 'Document'}, {'id': '5d62c419c91249e9ba5407898f2d9ec2', 'metadata': {'product_name': 'realme Buds Q Bluetooth Headset'}, 'page_content': 'LOVE IT :OK_hand_light_skin_tone:Awesome Sound Quality with Superb Bass and noise cancellation, So light weight and perfect fit in ear. Love these Buds specially if you compare this with any other brand in this price thanks to realme For this great deal.', 'type': 'Document'}, {'id': 'c950ac3eb3bf4469a3ed69ce2d1f0637', 'metadata': {'product_name': 'realme Buds Q Bluetooth Headset'}, 'page_content': \"Best noise cancelling buds for this priceEven though it has no noise cancelling!It's pretty good and bass is awesome and sound quality is also good, I can literally hear the lyrics even I'm standing in the crowd and it fits perfect that you won't hear outside noise at all.\", 'type': 'Document'}], 'answer': 'Based on the reviews provided, the \"Best Quality buds\" (presumably Realme Buds) seem to be a great choice due to their excellent sound quality with fine bass, superb noise cancellation, and a comfortable fit. The battery backup is also reported to be very good. Therefore, I highly recommend considering these buds for your purchase.'}}\n"
     ]
    }
   ],
   "source": [
    "print(answer)"
   ]
  }
 ],
 "metadata": {
  "kernelspec": {
   "display_name": "Python 3",
   "language": "python",
   "name": "python3"
  },
  "language_info": {
   "codemirror_mode": {
    "name": "ipython",
    "version": 3
   },
   "file_extension": ".py",
   "mimetype": "text/x-python",
   "name": "python",
   "nbconvert_exporter": "python",
   "pygments_lexer": "ipython3",
   "version": "3.12.7"
  }
 },
 "nbformat": 4,
 "nbformat_minor": 2
}
